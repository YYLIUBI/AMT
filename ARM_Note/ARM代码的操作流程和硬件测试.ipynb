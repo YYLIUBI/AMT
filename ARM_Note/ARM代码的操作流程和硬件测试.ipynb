{
 "cells": [
  {
   "cell_type": "markdown",
   "metadata": {},
   "source": [
    "### AMT MT相关知识\n",
    "- 大地电磁法(MT)是一种天然场源的频率域电磁法，原理是以天然的平面电磁波为场源，通过在地表观测相互正交的电磁场分量来获取地下电性结构，已成为探测岩石层电性结构的主要方法\n",
    "- "
   ]
  },
  {
   "cell_type": "markdown",
   "metadata": {},
   "source": [
    "*****"
   ]
  },
  {
   "cell_type": "markdown",
   "metadata": {},
   "source": [
    "### 地球构造\n",
    "- 地壳 岩石圈 软流层 上地幔 下地幔 外核 内核\n",
    "- 50公里：莫霍面\n",
    "- 2900公里：古登堡面\n",
    "- 莫霍面和古登堡面将地球分为地壳、地幔、地核\n",
    "\n",
    "### 比值视电阻率\n",
    "\n",
    "- 在陆地频率域可控源电磁法中,利用均匀半空间模型产生的响应来等效地下复杂模型产生的响应,当电磁响应的振幅相同时,把均匀半空间模型的电阻率称为视电阻率\n",
    "\n",
    "\n",
    "- 视电阻率是空间中介质真电阻率的复杂加权平均，一般通过均匀半空间场等效复杂地电模型场的方式来定义。\n",
    "\n",
    "\n",
    "- 在准静态极限下，水平谐变电偶极源在均匀半空间表面产生的电磁场分量为：\n",
    "\n",
    "- ![jupyter](./视电阻率1.jpg)\n",
    "\n",
    "- ![jupyter](./视电阻率2.jpg)\n",
    "\n"
   ]
  },
  {
   "cell_type": "markdown",
   "metadata": {},
   "source": [
    "****"
   ]
  },
  {
   "cell_type": "markdown",
   "metadata": {},
   "source": [
    "### SSMT2000功能\n",
    "- 选择TBL文件，点击EditPRM，选择相应的TBL文件（Local H）,点击MakePFT创建白噪声PFT文件，再点击TStoFT（将TS文件切块每一块做FFT然后再进行叠加计算ρZ(Zxy)=1/5f * Ex/Hy  ？？？）,最后点击Process，生成相应的文件，再打开MTeditor查看视电阻率和相位一致性。"
   ]
  },
  {
   "cell_type": "markdown",
   "metadata": {},
   "source": [
    "****"
   ]
  },
  {
   "cell_type": "markdown",
   "metadata": {},
   "source": [
    "### SSC\n",
    "- SSC通讯 PDC和DMA是共同起作用\n",
    "- 配置了PDC，PDC中包含外设DMA控制API，通过对PDC相关寄存器进行配置，对DMA数据传输进行初始化\n",
    "#### SSC配置流程：\n",
    "<p><font face=\"微软雅黑\">1.初始化IO设置为A功能</font><br />\n",
    "<p><font face=\"微软雅黑\">2.设置PMC寄存器给予SSC时钟</font><br />\n",
    "<p><font face=\"微软雅黑\">3.写SSC控制寄存器CR：RXEN、SWRST(软件复位)</font><br />\n",
    "<p><font face=\"微软雅黑\">4.写SSC接受时钟模式寄存器RCMR</font><br />\n",
    "<p><font face=\"微软雅黑\">5.写SSC接受帧模式寄存器RFMR</font><br />\n",
    "<p><font face=\"微软雅黑\">6.配置相关PDC寄存器：RPR RCR RNCR PTCR </font><br />\n",
    "<p><font face=\"微软雅黑\">7.写CCS中断寄存器IER，设置为接收完成使能中断</font><br />\n",
    "<p><font face=\"微软雅黑\">8.写SSC中断服务函数</font><br />\n",
    "#### 数据接收过程：\n",
    "    <p>乒乓内存映射接收数据:\n",
    "        1.利用__get_free_pages（）函数开辟两个CPU内存空间 ，并用pci_map_single（）函数建立由外设到CPU的流式映射，开辟两个DMA映射地址\n",
    "        2.声明一个等待队列，在SSC中断服务函数（一次数据接收完成）中唤醒。\n",
    "        3.wait_event_interruptible（）等待队列被唤醒\n",
    "          dma_sync_single_for_cpu()在一次DMA传输完成后，访问DMA缓冲区并将数据传输到CPU内部缓冲区\n",
    "          copy_to_user（）及时把CPU内部缓冲区的数据传给上层APP（每访问一次，相应DMA内存地址和CPU内存地址就进行切换）\n",
    "      当中断触发时，就开始从DMA缓冲区将数据传到CPU内部缓冲区。这个传输过程需要一定的时间，但是PDC接收器依然在不断接受数据，若此时上个传输还在进行，则数据传输就会出错，所以开辟两个DMA和两个CPU空间，当一个DMA空间和CPU空间在进行数据传输时，则下一次触发到来时，用另一片DMA空间接受数据，并传给CPU空间。以此往复，避免数据接收错乱。\n",
    "          dma_sync_single_for_device()将缓冲区传给硬件前，让设备再次获得DMA缓冲区，完成CPU对数据的访问\n",
    "    "
   ]
  },
  {
   "cell_type": "markdown",
   "metadata": {},
   "source": [
    "<font color=#00ffff size=10> ----------------------------------------------------------- </font>"
   ]
  },
  {
   "cell_type": "markdown",
   "metadata": {},
   "source": [
    "在申请中断时用的标志位 IRQF_DISABLED，即在调用此中断例程时，禁止其他中断。但是PPS中断和SSC中断一直在进行会有可能造成错乱。？？？？"
   ]
  },
  {
   "cell_type": "markdown",
   "metadata": {},
   "source": [
    "<font color=#00ffff size=10> ----------------------------------------------------------- </font>"
   ]
  },
  {
   "cell_type": "markdown",
   "metadata": {},
   "source": [
    "### TBL解析\n",
    "- TBL文件共有140行，每行25个数据（每个数据占一个字节）\n",
    "#### 单个记录的字节分配表：\n",
    "\n",
    "|字节数|数据类型|字节数|备注|\n",
    "|---|---|--------|\n",
    "|1-5|Str|5|记录名|\n",
    "|6-7|Int|2|MTU程序控制|\n",
    "|8-11|Long|4|MTU程序控制|\n",
    "|12|Str|1|数据类型识别符号|\n",
    "|13-25|可变|13|根据识别符定类型|\n",
    "\n",
    "\n"
   ]
  },
  {
   "cell_type": "markdown",
   "metadata": {},
   "source": [
    "<font color=#00ffff size=10> ----------------------------------------------------------- </font>"
   ]
  },
  {
   "cell_type": "markdown",
   "metadata": {},
   "source": [
    "### set_filename()函数\n",
    "\n",
    "#### tbInit()函数分析\n",
    "- **功能**：通过读取已经配置好的TBL文件（有244行），按照140行对244行数据进行循环匹配，并把每行（项）25字节的数据分别赋到已定义的结构体各个参数当中（按字节分配）。并对一些参数的值进行初始化。 \n",
    "<p> * **有的配置TBL文件有244行有的只有140行？？？**\n",
    "\n",
    "    #### 解析TBL文件对相应的结构体和共用体（union）赋值\n",
    "~~~ c \n",
    "    memcpy(buf,&TblData[i*25],25); ~~~  \n",
    "- ValPT（union）:[union](https://www.cnblogs.com/tianlangshu/p/5204521.html)\n",
    "  ~~~ c\n",
    "      signed int I; /* Signed 4 byte integer. */ 4个字节的int型\n",
    "\t  double F; /* 8 byte IEEE floating point. */ 8字节浮点型\n",
    "\t  char S[8];/* Geographical position,5m resolution. */ 接收字符串和时间\n",
    "\t  char P[13];/* Geographical position,5m resolution. */接收char型经纬度\n",
    "\t  unsigned char utc[8];  ~~~\n",
    "- TableEntryPT(struct):\n",
    "   ~~~ c\n",
    "       char Code[5]; /* Ascii code for the parameter. */ 记录名\n",
    "\t   /* Up to 4 characters, null terminated */\n",
    "\t   /* if less than 4. Case ignored. */\n",
    "\t   unsigned short Grp:16; /* Group of parameters of which this */MTU程序控制\n",
    "\t   /* parameter is a member. One semaphore */\n",
    "\t   /* is shared by all parameters in a group. */\n",
    "\t   unsigned int Smph:32; /* ID of the semaphore which protects */MTU程序控制\n",
    "\t   /* this parameter. 4 bytes*/\n",
    "\t   unsigned char T; /* The data type of this parameter. */数据类型识别符\n",
    "\t   ValPT V; /* The value of this parameter. */ 相应的参数值 ~~~\n",
    "\n",
    "   #### 匹配MTSR（只读取了一个字节判断MT或者AMT） 、EGNC 、HGNC 、ACDC（？？？），获得相应的值 \n",
    " \n",
    "   #### 匹配每一项数据类型识别符对ValPT共用体中参数赋值\n",
    "- TypePT：（enum） // **所有项都是这些类型码？还是一些特定的项**\n",
    "   \n",
    " ~~~ c  \n",
    "    /* Defines data type of entries in parameter */\n",
    "\t/* table. Corresponds to fields of type ValPT */\n",
    "\tIntPT, /* Signed 4 byte integer. */      ??? 2 个字节\n",
    "\tFltPT, /* 8 byte IEEE floating point (double) */\n",
    "\tStrPT, /* String, null terminated, 0-8 bytes. */\n",
    "\tUTCPT, /* UTC date and time, 1 s resolution. */\n",
    "\tPosPT, /* Geographical position. (char *) */\n",
    "\tAmxPT /* AMX time and date. */  ？？？~~~\n",
    "} \n",
    "   \n",
    "   \n",
    "#### GetBoxID()函数\n",
    "- 打开startup.prm文件（二进制）\n",
    "- ftell获得当前文件字节数（可以不用指定到文件末尾，对于二进制文件来说，ftell函数本身就返回从文件开头到结尾的字节数）？？？？\n",
    "- 开辟相应的内存，对二进制文件进行读取，匹配BOX_ID，获得BOX_ID值。\n",
    "\n",
    "#### nametag()函数\n",
    "- 对tbl文件进行命名：BOX_ID 月 日 文件计数['a-z' 'a-z']\n",
    "  #### dealtagsdd()函数\n",
    "   - nametag()函数进行调用，对tbl文件数进行计数\n",
    "\n",
    "- 写TS2、3、4、5，tbl文件名 \n",
    "- 设置了STIM(FTIM HTIM)\n",
    "    "
   ]
  },
  {
   "cell_type": "markdown",
   "metadata": {},
   "source": [
    "<font color=#00ffff size=10> ----------------------------------------------------------- </font>"
   ]
  },
  {
   "cell_type": "markdown",
   "metadata": {},
   "source": [
    "#### 在对内存进行分配时，每次判断有没有分配成功之后返回相应的错误，但是没有对错误进行处理，比如重新分配？？？？？\n",
    "#### 还有一些操作也是只返回错误信息，但是没有处理方法。"
   ]
  },
  {
   "cell_type": "markdown",
   "metadata": {},
   "source": [
    "<font color=#00ffff size=10> ----------------------------------------------------------- </font>"
   ]
  },
  {
   "cell_type": "markdown",
   "metadata": {},
   "source": [
    "### ad_init_reg()函数\n",
    "- 创建set_write set_udp信号量,用于阻塞两个线程\n",
    "- 创建写文件线程和UDP发送线程，开始进行写文件和UDP发送\n",
    "- 根据MTSR的MT AMT 标志位（1：MT 0:AMT），以二进制写的方式打开之前set_filename（）函数创建的相应的MT AMT TS2、3、4、5文件\n",
    "\n",
    "#### ads_init()函数\n",
    "- 对一些控制I/O（SETCAL SETSSCRFMR SETGAIN SETGAINH SETMCLK SEC_MODE BUFFER_SET）管脚进行控制\n",
    "\n",
    "#### writefile()函数\n",
    "- 将SSC读到的数据按照每16个字节进行写入，第16个字节为采样率标志位（H M L）\n",
    "- 向一个文件写入32个字节的时间戳信息\n",
    "- 再写入SSC读到的15个字节的数据\n",
    "- 一直for循环进行数据采集，32个字节的时间戳+15字节的数据，直到把第一片内存上的数据读完，写TBL文件。继续while循环，之后再读第二片内存的数据，直到读完，两片内存相互替换，此操作在另一个线程中进行。在acq_onerate（）函数主进程中对数据采集进行while循环判断，陷入死循环，从而控制从线程的操作。\n",
    "- 终止采集后，退出该线程\n",
    "\n",
    "标定：\n",
    "- 每1MB数据加入4个4B \n",
    "- 第一个4B 0XFFFF 2B 1MB的块ID 2B\n",
    "- 第二个4B 距离起始对钟时间的整秒数2*109s 约为24 855days\n",
    "- 第三个4B 为毫秒数\n",
    "- 第四个4B 数据校验和"
   ]
  },
  {
   "cell_type": "markdown",
   "metadata": {},
   "source": [
    "*****"
   ]
  },
  {
   "cell_type": "markdown",
   "metadata": {},
   "source": [
    "### 数据采集前对引脚和FPGA的控制\n",
    "- SETCAL： 设置是否产生标定信号（FPGA）\n",
    "\n",
    "\n",
    "- SETCAL_coil: 设置是否进行通道标定（FPGA）\n",
    "\n",
    "\n",
    "- SETSSCRFMR：设置接收SSC一帧数据的数据个数（ARM）\n",
    "\n",
    "\n",
    "- GAINE(E0 E1)：从初始TBL文件中获取相应数据，设置电道增益（引脚）\n",
    "\n",
    "\n",
    "- GAINB(B0 B1)：从初始TBL文件中获取相应数据，设置磁道增益（引脚）\n",
    "\n",
    "\n",
    "- SETMCLK: 由初始TBL文件AMTMT标志决定24KHz（AMT）或者2.4KHz（MT）并：（FPGA）\n",
    "  <p>SEL_MODE:  确定AMT MT,同时也决定了AC（AMT）或者DC（MT））\n",
    "\n",
    "- SW1 SW2：组合控制模拟开关，进行MT AMT 通道标定选择（引脚）\n",
    "\n",
    "\n",
    "- SW3 SW4:组合控制极间电阻 磁棒标定\n",
    "\n",
    "TOTL ???  ACQNUM写文件计数\n"
   ]
  },
  {
   "cell_type": "markdown",
   "metadata": {},
   "source": [
    "***"
   ]
  },
  {
   "cell_type": "markdown",
   "metadata": {},
   "source": [
    "### 之前版本对GPS的读取：\n",
    "- 在开始采集之前调用 LockPPS 来读取GPS时间并设置 RTC\n",
    "- 在 set_filename 函数中调用get_gps来读取经纬度和海拔，调用read_rtc来获取采集开始时间STIM，在writeTBL函数中写入tbl文件\n",
    "- 在 acq_onerate 函数中调用read_rtc获取时间，并将当前秒数设置为整秒数设置rtc中断，开始CMD_SSC_START采集数据\n",
    "- CMD_SSC_STOP命令结束采集，并在writeTBL函数中读取采集结束时间ETIM,再次写入tbl文件\n",
    "\n",
    "### 问题：\n",
    "- LockGPS 函数和get_gps 函数重复读串口--->将函数精简一次直接读取一个结构体变量gps_info包含所有信息\n",
    "- 在读GPS时间时，将读到的字符串由转换成tm变量，来回转换非常麻烦！！！--->函数直接返回一个tm变量即可\n",
    "- LockGPS函数读取GPS时间设置rtc，并通知FPGA进行计数时，采用了两次读串口第一次对FPGA小时钟进行清零，第二次才开始读时间。重复读串口进行字符串判断，麻烦！！！，并且在FPGA开始计数时，没有立即进行RTC的设置，会由时间上的误差---->首先对FPGA小时钟进行清零，然后开始调用函数返回GPS所有信息,设置rtc的同时通知FPGA进行计数。\n",
    "\n",
    "#### tm结构体和字符串之间的转换：无法直接获取wday，需要将tm时间转换成string，然后调用weekcal函数计算出星期"
   ]
  },
  {
   "cell_type": "markdown",
   "metadata": {},
   "source": [
    "*****"
   ]
  },
  {
   "cell_type": "markdown",
   "metadata": {},
   "source": [
    "### GPIO中断：\n",
    "- gpio_irq_unmask() gpio_irq_type() 隐式声明函数 编译错误 ？？？？\n",
    "- 解决： 内核版本不对"
   ]
  },
  {
   "cell_type": "markdown",
   "metadata": {},
   "source": [
    "******"
   ]
  },
  {
   "cell_type": "markdown",
   "metadata": {},
   "source": [
    "### FPGA和ARM联调\n",
    "#### 问题：\n",
    "- 数据输入没有问题可以成功抓取数据\n",
    "- 但是在SSC_TX实体模块，输入正常，输出错误\n",
    "- 需要AMT的初始配置TBL文件\n",
    "####  解决：\n",
    "- 解决：更改TBL配置文件\n",
    "- 修改FPGA:SSC_RFO管脚连接错误，改正后可以正常接受数据\n",
    "\n",
    "\n",
    "\n",
    "#### 问题：\n",
    "- 开始数据采集之后，使用while循环进行操作，无法终止采集操作，陷入死循环。\n",
    "#### 解决：\n",
    "- 是否可以新建一个线程进行循环，由主线程进行开始和终止。（X）\n",
    "- 上电就开始工作，由上位机进行终止\n",
    "\n",
    "\n",
    "\n",
    "#### 问题:\n",
    "- TS2、3波形的顶部和底部有尖端脉冲\n",
    "- TS4 文件全是FFFFF，开始的32字节tbl数据也有问题\n",
    "- TS文件中的时间信息不对，FPGA中的小时钟没有工作。（时间由读上来的buf[11]、[10]、[9]、[8]进行累加）\n",
    "#### 解决：\n",
    "- FPGA FIR_compiler使用不当\n",
    "- TS4文件，误将32个字节的tbl数据，当成了采集数据。所以周期性的问题。\n",
    "- 在TS4中发现有，TS3中的32字节的时间信息。说明在存入32字节的tbl文件之前，读入了buf[15]=\"CC\"的一串数据。\n",
    "- 现在要测试是否是FPGA发了32字节的信息，ARM没有读到。还是FPGA没有发成功。看看时间信息对不对。"
   ]
  },
  {
   "cell_type": "markdown",
   "metadata": {},
   "source": [
    "***********"
   ]
  },
  {
   "cell_type": "markdown",
   "metadata": {},
   "source": [
    "## 标定"
   ]
  },
  {
   "cell_type": "markdown",
   "metadata": {},
   "source": [
    "- 标定产生频率24000 2400 150 15 产生4个相应的文件\n",
    "- 写第一个文件.TSS文件时没有问题，正常产生方波，方波频率会有一个变快的过程。但是写.TSH文件时，最开始设置的引脚的值也相应的复原，无法再产生方波。（问题;代码中每次循环完成之后将标定控制引脚设为1，结束标定。一次只能产生一个文件，需要进一步控制标定引脚才能产生下一个文件）\n",
    "- 直接测试模拟板上的模拟开关，未产生标定信号。"
   ]
  },
  {
   "cell_type": "markdown",
   "metadata": {},
   "source": [
    "- 经过FPGA信号逻辑分析仪检测SYNC信号没有正常触发\n",
    "    - 分析原因： \n",
    "        SYNC信号由ARM给出，初始状态一直处于高电平，当开始进行SSC通信时，ARM将输出低电平，此时FPGA响应低电平等待PPS上升沿然后再讲SYNC信号置零。但是PPS信号周期是一秒。ARM输出低电平的时间太短，未能等到PPS上升沿，从而导致SYNC无法正常触发。\n",
    "- 在ARM代码中加入延迟，延迟1S，增长低电平的时间，SYNC正常触发\n",
    "    - 但是24000采样率的波形相位一直不同步\n",
    "- 24000采样率相位不同步问题：<font color=#ff0000 size=10> 未解决</font>\n",
    " \n",
    "     1. 猜测可能与SYNC触发信号有关（FPGA产生的pps信号并不总是与GPS信号的pps同步），当remod mfemdrv.ko时，dds依然正常输出，FPGA中的pps则进行累加，输出1秒脉冲\n",
    "     2. FPGA中抽取需要反应时间，所以点数不稳定\n",
    "     3. ADS1271 24K采样率，内部有一定的反应时间（时间不稳定）"
   ]
  },
  {
   "cell_type": "markdown",
   "metadata": {},
   "source": [
    "******"
   ]
  },
  {
   "cell_type": "markdown",
   "metadata": {},
   "source": [
    "#### 接收TS234文件\n",
    "- SYNC触发正常后，TS2 3 4正常接收，时间终于同步。但是TS4 150HZ采样率，采集的数据最开始处（前94 个点）不正常。应该五个通道的数据一样，但是出现了个别错误。\n",
    "    - 去掉FIR50_ts4陷波器测试，异常点数变少了，推测抽样的时候最开始没有抽好\n",
    "- FPGA中抽取需要一定的反应时间，故150HZ数据前部分总是不正常"
   ]
  },
  {
   "cell_type": "markdown",
   "metadata": {},
   "source": [
    "***"
   ]
  },
  {
   "cell_type": "markdown",
   "metadata": {},
   "source": [
    "#### 通道标定和磁棒标定\n",
    "\n",
    "- 通道标定5通道都进行标定，通过SW1和SW2控制模拟开关，将系统自己产生的方波（电道和磁道赋值不同，电道80mv，磁道1V）\n",
    "- 磁棒标定只有磁道进行标定，将产生的标准方波信号，输入给磁棒，然后在接收磁棒的输出。故磁棒标定需要控制SW1和SW2在正常采集状态。"
   ]
  },
  {
   "cell_type": "markdown",
   "metadata": {},
   "source": [
    "![jupyter](./TIM图片20190407212902.jpg)"
   ]
  },
  {
   "cell_type": "markdown",
   "metadata": {},
   "source": [
    "*****\n"
   ]
  },
  {
   "cell_type": "markdown",
   "metadata": {},
   "source": [
    "### 分析各通道的直流偏移\n",
    "- AD8429:50 μV maximum input offset voltage   在1K频率之前噪声（18(pA/√Hz）不如1K以后（2(pA/√Hz）\n",
    "\n",
    "\n",
    "- OPA2188带通滤波：影响不大，几乎没有影响\n",
    "\n",
    "\n",
    "- LTC6910：System Dynamic Range to 120dB；  Input Offset Voltage: 1.5mV；   Output Voltage Swing LOW：12~30mv ； Output Voltage Swing HIGH：10~20mv； 在增益为1的时候Offset Voltage Magnitude (Referred to “IN” Pin) (VOS(IN)：3~15mv； 相对于自身的运放Offset Voltage Magnitude (Internal Op Amp)：1.5~9mv； \n",
    "\n",
    "\n",
    "- THS4521：单端输入，+5V供电：Output Voltage Low：0.1~0.15V ；Default Output Common-Mode Voltage Offset from (VS+ – VS–)/2：±1~±5mV； Iq=16mA； Common-Mode Offset Voltage from V OCM Input Measured at V OUT with V OCM input driven：±5~±9mV\n",
    "\n",
    "\n",
    "- 万用表测各个点的DC电压值，发现在THS4521的输出端AINP和AINN的电压值相同，但是经过1K电阻和49.9Ω电压就不一样了，是否是电阻值不相同导致的了细微差别？\n",
    "\n",
    "|通道|matlab计算|AD8429(mV)|LTC6910(mV)|THS4521(mV)|\n",
    "|---|-----|------|--------|\n",
    "|Ex|-5|-0.2|-13.7|-16|\n",
    "|Ey|-0.7|0|-9.5|1|\n",
    "|Bx|-15|-0.4|-3.9|-4|\n",
    "|By|20|-0.4|0.2|4|\n",
    "|Bz|-15|0.1|-1.4|-4|\n",
    "\n",
    "|通道|mean|THS4521(V))+|THS4521(V)-|THS4521(mV) value|LTC6910(mV)|\n",
    "|---|-----|------|--------|\n",
    "|Ex|-8.8|2.4342|2.4452|-11|-6.96|\n",
    "|Ey|-1.8|2.4392|2.4416|-2.4|-9.34|\n",
    "|Bx|-3.3|2.4389|2.4428|-3.9|-3.73|\n",
    "|By|4.02|2.4404|2.4351|5.3|0.61|\n",
    "|Bz|-3.1|2.4371|2.4408|-3.7|-1.3|\n",
    "\n",
    "![jupyter](./R.jpg)\n",
    "\n",
    "- 通过TI仿真，THS4521差分输入都接地时，差分输出均为2.44V\n",
    "\n",
    "\n",
    "\n",
    "- 电阻的差异和差分输入的差异共同决定了直流偏置\n",
    "\n",
    "\n",
    "- 直流偏置是芯片和电阻值不精确决定的，而磁道电路前端有分压衰减，但是并没有衰减直流量，因此最后测量直流量时不应该除以增益\n",
    "\n",
    "\n",
    "- Ex通道：测LTC6910偏置电压：\n"
   ]
  },
  {
   "cell_type": "markdown",
   "metadata": {},
   "source": [
    "*******"
   ]
  },
  {
   "cell_type": "markdown",
   "metadata": {},
   "source": [
    "### 测量输入阻抗\n",
    "\n",
    "- 输入阻抗：电路中的电感 电容 对输入阻抗有一定的影响，故信号源的频率不能太高。\n",
    "\n",
    "\n",
    "\n",
    "- 磁道输入阻抗\n",
    "    - 给定电压源：一个频率10Hz，500mV偏置，峰峰值为1V的正玄波，阻抗为50Ω\n",
    "    - 串联的已知电阻R0为813KΩ\n",
    "    - 用万用表直流电压档测量：R0之前电压为， R0之后电压为\n",
    "    - 侧计算得输入阻抗为：\n",
    "    \n",
    "\n",
    "        \n",
    "- 电道输入阻抗\n",
    "    - 和磁道测量方法相同，只是电道由正负的输入\n",
    "    \n"
   ]
  },
  {
   "cell_type": "markdown",
   "metadata": {},
   "source": [
    "*****"
   ]
  },
  {
   "cell_type": "markdown",
   "metadata": {},
   "source": [
    "- 注： 参考电源使用 2.5V，由芯片 REF3125 产生，输出端需要 100uF 大电容"
   ]
  },
  {
   "cell_type": "markdown",
   "metadata": {},
   "source": [
    "****"
   ]
  },
  {
   "cell_type": "markdown",
   "metadata": {},
   "source": [
    "###  时间一致性\n",
    "\n",
    "- 串口显示时间为091732，采集的波形反向，查看下降沿，延迟点数为32/33\n",
    "\n",
    "- 071622\n",
    " ![jupyter](16124jae.jpg)\n",
    "\n",
    "- 073204\n",
    " ![jupyter](16124jag.jpg)\n",
    " \n",
    " - 121119\n",
    " ![jupyter](16124jaj.jpg)\n",
    " \n",
    " - 122920\n",
    " ![jupyter](16124jak.jpg)\n",
    " \n",
    " - 130259\n",
    " ![jupyter](16124jan.jpg)"
   ]
  },
  {
   "cell_type": "markdown",
   "metadata": {},
   "source": [
    "*****"
   ]
  },
  {
   "cell_type": "markdown",
   "metadata": {},
   "source": [
    "### 噪声水平<font color=#ff0000 size=10> 未解决</font>\n",
    "- AD8429低噪声仪表放大器\n",
    "    - 具有 1 nV/√Hz 的超低输入噪声性能。 \n",
    "    - 输入阻抗Rin：1.5G||pF\n",
    "    - 如图所示：放大增益在1—10之间，噪声水平应该在100 nV/√Hz以下。其中电场增益为3，磁场增益为1。电场的噪声应该会更好。\n",
    "![jupyter](ad8429noise.jpg)\n",
    "\n",
    "\n",
    "\n",
    "- LTC6910可编程增益放大器\n",
    "    - 输入噪声低至 8nV/√Hz\n",
    "    - G:1-24nV/√Hz  4-12nV/√Hz 16-9.4nV/√Hz 364-8.1nV/√Hz\n",
    "    - 输入阻抗：1-10kΩ 4-2.5kΩ  16-1.25 64-1.25kΩ \n",
    "\n",
    "\n",
    "- OPA2188运算放大器\n",
    "    - 8.8 nV/√Hz 的低噪声\n",
    "    \n",
    "\n",
    "- THS4521低功率，负轨输入，轨对轨输出，全差动放大器\n",
    "    - Input Voltage Noise: 4.6 nV/√Hz (f = 100 kHz)\n",
    "    ![jupyter](./THS4521noise.jpg)\n",
    "    \n",
    "\n",
    "\n",
    "- <font color=#ff0000 size=8> 电源纹波测试</font>\n",
    "    \n",
    "     \n",
    "   \n",
    "   - ±5V：超过200mVpk-pk\n",
    "    \n",
    "    - 电源EMI干扰很大    \n",
    "    - 电源滤波电路分析，加大电感，增强抑制串模干扰的能力\n",
    "    - 电感的选择要看额定电流和感抗，在不同频率下的阻值。电路中的电感值很难去计算，只能通过理论去试。\n",
    "   \n",
    "   \n",
    "   - [共模电感抑制电源噪声](http://www.elecfans.com/yuanqijian/diangangqi/20180303642425.html)\n",
    "   \n",
    "   \n",
    "   - 开关电源产生的共模噪声频率范围为10kHz-20MHz甚至更高，为了有效衰减或是抑制这些噪声，要求在这个频率范围内共模电感器拥有够高的感抗。\n",
    "   \n",
    "   \n",
    "   - 共模电感器件，两组线圈绕在磁环上，匝数相同，绕法相同，同一个方向，两边对称，当通过共模信号时，则电路电流方向相同，根据右手定则，线圈磁通量变大电感阻抗变大，抑制了共模信号。而通过差模信号时，磁通量互相抵消几乎不影响。\n",
    "   \n",
    "   \n",
    "   - 纹波，主要由两部分组成：一个是跟开关频率有关的电容电压的变化率，电感电流的充放电时间长，则电容电压变化大，若开关频率高，则充放电时间短，电容电压变化小，即纹波小；\n",
    "   \n",
    "   \n",
    "   - 当前的开关频率都已经达到MHz级别，使得纹波主要由输出滤波电容的ESR(等效串联电阻)决定，因为电容在充电和放电的时候输出电压上会有一个与Iout×ESR相关的跳变，当负载电流越大时此值越大，即纹波越大。\n",
    "   \n",
    "   - TEN 8-1221 开关频率为300KHz\n",
    "   \n",
    "   - 解决办法，如果不是设计芯片，只是应用，选择ESR小的电容可以减小纹波，参考芯片的DATASHEET，若允许可采用非电解电容，其ESR较小。\n",
    "    \n",
    "    \n",
    "   - 共模电感测试\n",
    "   \n",
    "   \n",
    "   \n",
    "   |电感值|公模感抗|额定电流|纹波大小Vpp|\n",
    "   |------|--------|--------|-----------|\n",
    "   |900UH||4A|+5V:35.6mV，-5V：44.7mV|\n",
    "   |10UH|1000Ω|2.5A||\n",
    "   |10UH|1800Ω|4A|+5V:21.6mV，-5V：21.3mV|\n",
    "   |16MH||2.3|+5V:53mV，-5V：49mV|\n",
    "   |5MH||2A|+5V:29mV，-5V：22.5mV,滤掉了多次谐波，更加的平缓，只有两个尖脉冲|\n",
    "   |300UH||1A|+5V:25.6mV，-5V：37.5mV|\n",
    "   \n",
    "\n",
    "<font color=#ff0000 size=5> 16MH</font>\n",
    "\n",
    "- ![jupyter](./scope_8.png)\n",
    "- ![jupyter](./scope_9.png)\n",
    "- ![jupyter](./scope_10.png)\n",
    "\n",
    "\n",
    "\n",
    "<font color=#ff0000 size=5> 5MH</font>\n",
    "\n",
    "- ![jupyter](./scope_5.png)\n",
    "- ![jupyter](./scope_6.png)\n",
    "- ![jupyter](./scope_7.png)\n",
    "\n",
    "<font color=#ff0000 size=5> 10UH</font>\n",
    "\n",
    "- ![jupyter](./scope_11.png)\n",
    "- ![jupyter](./scope_12.png)\n",
    "- ![jupyter](./scope_13.png)\n",
    "\n",
    "<font color=#ff0000 size=5> 900UH</font>\n",
    "\n",
    "- ![jupyter](./scope_14.png)\n",
    "- ![jupyter](./scope_15.png)\n",
    "- ![jupyter](./scope_16.png)\n",
    "\n",
    "<font color=#ff0000 size=5> 三相300UH</font>\n",
    "\n",
    "- ![jupyter](./scope_17.png)\n",
    "- ![jupyter](./scope_18.png)\n",
    "- ![jupyter](./scope_19.png)"
   ]
  },
  {
   "cell_type": "markdown",
   "metadata": {},
   "source": [
    "****"
   ]
  },
  {
   "cell_type": "markdown",
   "metadata": {},
   "source": [
    "### 动态范围\n",
    "- ![jupyter](./动态范围.jpg)\n",
    "\n",
    "\n",
    "\n",
    "- 含义：\n",
    "    - 最大不失真电压由ADC芯片的参考电压和电路的增益决定：参考电压量程/增益=量程\n",
    "    - 输入对地短接测量的结果结算方差得到噪声（也可以看做是电路最低能采集的信号电压值）\n",
    "    - 动态范围表示了采集电路测量信号的范围，可以采集大信号不失真，小信号又有足够的信噪比。\n",
    "\n",
    "\n",
    "\n",
    "\n",
    "- 电道量程：\n",
    "\n",
    "\n",
    "\n",
    "- 磁道量程：\n",
    "\n",
    "\n",
    "- 赋值超过一定时，FPGA FIR compiler IP核 抽取幅度溢出，导致数据错误。（经测试，峰峰值为500MV的正玄波，抽取出错）\n",
    "- IP核滤波和抽取赋值限定是多少\n",
    "\n",
    "- 通过更改输出截取的高位和低位，扩大量程。一般位与位之间相差两倍。\n",
    "- 150HZ抽取滤波，赋值无法达到准确达到真实值，和实际值差了0.8倍，故彩技术据显示时需要除以倍数。"
   ]
  },
  {
   "cell_type": "markdown",
   "metadata": {},
   "source": [
    "***"
   ]
  },
  {
   "cell_type": "markdown",
   "metadata": {},
   "source": [
    "### 读相关文档确定ADS1271、FPGA滤波器、SYNC时间延迟的问题<font color=#ff0000 size=10> 未解决</font>\n",
    "\n",
    "\n",
    "#### FPGA FIR IP核\n",
    "- ![jupyter](./fir ip.jpg)"
   ]
  },
  {
   "cell_type": "markdown",
   "metadata": {},
   "source": [
    "***"
   ]
  },
  {
   "cell_type": "markdown",
   "metadata": {},
   "source": [
    "### 数字板和模拟板的BUG <font color=#ff0000 size=10> 未解决</font>\n",
    "\n",
    "\n",
    "- 驱动磁棒，磁棒输入端在不进行标定时，应该处于空载状态。模拟开关输入不能接地\n",
    "\n",
    "\n",
    "- 电道输入端LC滤波电路，C过小将影响输入阻抗，将104换成101。[LC滤波电路详解](http://www.elecfans.com/dianlutu/filter/20171129588936.html)\n",
    "\n",
    "\n",
    "- "
   ]
  },
  {
   "cell_type": "markdown",
   "metadata": {},
   "source": [
    "****"
   ]
  },
  {
   "cell_type": "markdown",
   "metadata": {},
   "source": [
    "### 外部LED灯\n",
    "- 红线为共阳线\n",
    "- 3V电压，限流30mA"
   ]
  },
  {
   "cell_type": "markdown",
   "metadata": {},
   "source": []
  }
 ],
 "metadata": {
  "kernelspec": {
   "display_name": "Python 3",
   "language": "python",
   "name": "python3"
  },
  "language_info": {
   "codemirror_mode": {
    "name": "ipython",
    "version": 3
   },
   "file_extension": ".py",
   "mimetype": "text/x-python",
   "name": "python",
   "nbconvert_exporter": "python",
   "pygments_lexer": "ipython3",
   "version": "3.6.5"
  }
 },
 "nbformat": 4,
 "nbformat_minor": 2
}
